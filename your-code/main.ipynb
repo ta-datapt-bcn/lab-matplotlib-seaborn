{
 "cells": [
  {
   "cell_type": "markdown",
   "metadata": {
    "toc": true
   },
   "source": [
    "<h1>Table of Contents<span class=\"tocSkip\"></span></h1>\n",
    "<div class=\"toc\"><ul class=\"toc-item\"><li><span><a href=\"#Lab-|-Matplotlib-&amp;-Seaborn\" data-toc-modified-id=\"Lab-|-Matplotlib-&amp;-Seaborn-1\"><span class=\"toc-item-num\">1&nbsp;&nbsp;</span>Lab | Matplotlib &amp; Seaborn</a></span><ul class=\"toc-item\"><li><ul class=\"toc-item\"><li><ul class=\"toc-item\"><li><span><a href=\"#Import-all-the-necessary-libraries-here:\" data-toc-modified-id=\"Import-all-the-necessary-libraries-here:-1.0.0.1\"><span class=\"toc-item-num\">1.0.0.1&nbsp;&nbsp;</span>Import all the necessary libraries here:</a></span></li></ul></li></ul></li><li><span><a href=\"#Challenge-1\" data-toc-modified-id=\"Challenge-1-1.1\"><span class=\"toc-item-num\">1.1&nbsp;&nbsp;</span>Challenge 1</a></span><ul class=\"toc-item\"><li><ul class=\"toc-item\"><li><span><a href=\"#The-data-we-will-use-in-this-challenge-is:\" data-toc-modified-id=\"The-data-we-will-use-in-this-challenge-is:-1.1.0.1\"><span class=\"toc-item-num\">1.1.0.1&nbsp;&nbsp;</span>The data we will use in this challenge is:</a></span></li><li><span><a href=\"#Plot-(x,-y)-and-(x,-z).\" data-toc-modified-id=\"Plot-(x,-y)-and-(x,-z).-1.1.0.2\"><span class=\"toc-item-num\">1.1.0.2&nbsp;&nbsp;</span>Plot (x, y) and (x, z).</a></span></li><li><span><a href=\"#Use-plt.subplots(nrows=1,-ncols=2)-to-create-the-plot.\" data-toc-modified-id=\"Use-plt.subplots(nrows=1,-ncols=2)-to-create-the-plot.-1.1.0.3\"><span class=\"toc-item-num\">1.1.0.3&nbsp;&nbsp;</span>Use plt.subplots(nrows=1, ncols=2) to create the plot.</a></span></li><li><span><a href=\"#Use-your-previous-code-but-now,-resize-your-plot.\" data-toc-modified-id=\"Use-your-previous-code-but-now,-resize-your-plot.-1.1.0.4\"><span class=\"toc-item-num\">1.1.0.4&nbsp;&nbsp;</span>Use your previous code but now, resize your plot.</a></span></li><li><span><a href=\"#Plot-both-$y=x^2$-and-$y=e^x$-in-the-same-plot-using-normal-and-logarithmic-scale.\" data-toc-modified-id=\"Plot-both-$y=x^2$-and-$y=e^x$-in-the-same-plot-using-normal-and-logarithmic-scale.-1.1.0.5\"><span class=\"toc-item-num\">1.1.0.5&nbsp;&nbsp;</span>Plot both $y=x^2$ and $y=e^x$ in the same plot using normal and logarithmic scale.</a></span></li><li><span><a href=\"#As-a-bonus-challenge,-try-to-add-a-legend-to-the-plot.\" data-toc-modified-id=\"As-a-bonus-challenge,-try-to-add-a-legend-to-the-plot.-1.1.0.6\"><span class=\"toc-item-num\">1.1.0.6&nbsp;&nbsp;</span>As a bonus challenge, try to add a legend to the plot.</a></span></li></ul></li></ul></li><li><span><a href=\"#Challenge-2\" data-toc-modified-id=\"Challenge-2-1.2\"><span class=\"toc-item-num\">1.2&nbsp;&nbsp;</span>Challenge 2</a></span><ul class=\"toc-item\"><li><ul class=\"toc-item\"><li><span><a href=\"#Import-the-Fitbit2-dataset-and-store-it-in-a-variable-called-fitbit.-You-can-find-the-dataset-in-Ironhack's-database:\" data-toc-modified-id=\"Import-the-Fitbit2-dataset-and-store-it-in-a-variable-called-fitbit.-You-can-find-the-dataset-in-Ironhack's-database:-1.2.0.1\"><span class=\"toc-item-num\">1.2.0.1&nbsp;&nbsp;</span>Import the <code>Fitbit2</code> dataset and store it in a variable called <code>fitbit</code>. You can find the dataset in Ironhack's database:</a></span></li><li><span><a href=\"#From-the-Fitbit-data,-we-want-to-visually-understand:\" data-toc-modified-id=\"From-the-Fitbit-data,-we-want-to-visually-understand:-1.2.0.2\"><span class=\"toc-item-num\">1.2.0.2&nbsp;&nbsp;</span>From the Fitbit data, we want to visually understand:</a></span></li><li><span><a href=\"#Write-a-loop-to-plot-3-scatter-plots-of-the-following-features:\" data-toc-modified-id=\"Write-a-loop-to-plot-3-scatter-plots-of-the-following-features:-1.2.0.3\"><span class=\"toc-item-num\">1.2.0.3&nbsp;&nbsp;</span>Write a loop to plot 3 scatter plots of the following features:</a></span></li></ul></li></ul></li><li><span><a href=\"#Challenge-3\" data-toc-modified-id=\"Challenge-3-1.3\"><span class=\"toc-item-num\">1.3&nbsp;&nbsp;</span>Challenge 3</a></span><ul class=\"toc-item\"><li><ul class=\"toc-item\"><li><span><a href=\"#Import-the-titanic-dataset-and-store-it-in-a-variable-called-titanic.-You-can-find-the-dataset-in-Ironhack's-database:\" data-toc-modified-id=\"Import-the-titanic-dataset-and-store-it-in-a-variable-called-titanic.-You-can-find-the-dataset-in-Ironhack's-database:-1.3.0.1\"><span class=\"toc-item-num\">1.3.0.1&nbsp;&nbsp;</span>Import the <code>titanic</code> dataset and store it in a variable called <code>titanic</code>. You can find the dataset in Ironhack's database:</a></span></li><li><span><a href=\"#Explore-the-titanic-dataset-using-Pandas-dtypes.\" data-toc-modified-id=\"Explore-the-titanic-dataset-using-Pandas-dtypes.-1.3.0.2\"><span class=\"toc-item-num\">1.3.0.2&nbsp;&nbsp;</span>Explore the titanic dataset using Pandas dtypes.</a></span></li><li><span><a href=\"#What-are-your-numerical-variables?-What-are-your-categorical-variables?\" data-toc-modified-id=\"What-are-your-numerical-variables?-What-are-your-categorical-variables?-1.3.0.3\"><span class=\"toc-item-num\">1.3.0.3&nbsp;&nbsp;</span>What are your numerical variables? What are your categorical variables?</a></span></li><li><span><a href=\"#Set-the-plot-style-to-classic-and-the-figure-size-to-(12,6).\" data-toc-modified-id=\"Set-the-plot-style-to-classic-and-the-figure-size-to-(12,6).-1.3.0.4\"><span class=\"toc-item-num\">1.3.0.4&nbsp;&nbsp;</span>Set the plot style to classic and the figure size to (12,6).</a></span></li><li><span><a href=\"#Use-the-right-visulalization-to-show-the-distribution-of-column-Age.\" data-toc-modified-id=\"Use-the-right-visulalization-to-show-the-distribution-of-column-Age.-1.3.0.5\"><span class=\"toc-item-num\">1.3.0.5&nbsp;&nbsp;</span>Use the right visulalization to show the distribution of column <code>Age</code>.</a></span></li><li><span><a href=\"#Use-subplots-and-plot-the-distribution-of-the-Age--with-bins-equal-to-10,-20-and-50.\" data-toc-modified-id=\"Use-subplots-and-plot-the-distribution-of-the-Age--with-bins-equal-to-10,-20-and-50.-1.3.0.6\"><span class=\"toc-item-num\">1.3.0.6&nbsp;&nbsp;</span>Use subplots and plot the distribution of the <code>Age</code>  with bins equal to 10, 20 and 50.</a></span></li><li><span><a href=\"#How-does-the-bin-size-affect-your-plot?\" data-toc-modified-id=\"How-does-the-bin-size-affect-your-plot?-1.3.0.7\"><span class=\"toc-item-num\">1.3.0.7&nbsp;&nbsp;</span>How does the bin size affect your plot?</a></span></li><li><span><a href=\"#Use-seaborn-to-show-the-distribution-of-column-Age.\" data-toc-modified-id=\"Use-seaborn-to-show-the-distribution-of-column-Age.-1.3.0.8\"><span class=\"toc-item-num\">1.3.0.8&nbsp;&nbsp;</span>Use seaborn to show the distribution of column <code>Age</code>.</a></span></li><li><span><a href=\"#Use-the-right-plot-to-visualize-column-Gender.-There-are-2-ways-of-doing-it.-Do-it-both-ways.\" data-toc-modified-id=\"Use-the-right-plot-to-visualize-column-Gender.-There-are-2-ways-of-doing-it.-Do-it-both-ways.-1.3.0.9\"><span class=\"toc-item-num\">1.3.0.9&nbsp;&nbsp;</span>Use the right plot to visualize column <code>Gender</code>. There are 2 ways of doing it. Do it both ways.</a></span></li><li><span><a href=\"#Use-the-right-plot-to-visualize-the-column-Pclass.\" data-toc-modified-id=\"Use-the-right-plot-to-visualize-the-column-Pclass.-1.3.0.10\"><span class=\"toc-item-num\">1.3.0.10&nbsp;&nbsp;</span>Use the right plot to visualize the column <code>Pclass</code>.</a></span></li><li><span><a href=\"#We-would-like-to-have-in-one-single-plot-the-summary-statistics-of-the-feature-Age.-What-kind-of-plot-would-you-use?-Plot-it.\" data-toc-modified-id=\"We-would-like-to-have-in-one-single-plot-the-summary-statistics-of-the-feature-Age.-What-kind-of-plot-would-you-use?-Plot-it.-1.3.0.11\"><span class=\"toc-item-num\">1.3.0.11&nbsp;&nbsp;</span>We would like to have in one single plot the summary statistics of the feature <code>Age</code>. What kind of plot would you use? Plot it.</a></span></li><li><span><a href=\"#What-does-the-last-plot-tell-you-about-the-feature-Age?\" data-toc-modified-id=\"What-does-the-last-plot-tell-you-about-the-feature-Age?-1.3.0.12\"><span class=\"toc-item-num\">1.3.0.12&nbsp;&nbsp;</span>What does the last plot tell you about the feature <code>Age</code>?</a></span></li><li><span><a href=\"#Now-in-addition-to-the-summary-statistics,-we-want-to-have-in-the-same-plot-the-distribution-of-Age.-What-kind-of-plot-would-you-use?-Plot-it.\" data-toc-modified-id=\"Now-in-addition-to-the-summary-statistics,-we-want-to-have-in-the-same-plot-the-distribution-of-Age.-What-kind-of-plot-would-you-use?-Plot-it.-1.3.0.13\"><span class=\"toc-item-num\">1.3.0.13&nbsp;&nbsp;</span>Now in addition to the summary statistics, we want to have in the same plot the distribution of <code>Age</code>. What kind of plot would you use? Plot it.</a></span></li><li><span><a href=\"#What-additional-information-does-the-last-plot-provide-about-feature-Age?\" data-toc-modified-id=\"What-additional-information-does-the-last-plot-provide-about-feature-Age?-1.3.0.14\"><span class=\"toc-item-num\">1.3.0.14&nbsp;&nbsp;</span>What additional information does the last plot provide about feature <code>Age</code>?</a></span></li><li><span><a href=\"#We-suspect-that-there-is-a-linear-relationship-between-Fare-and-Age.-Use-the-right-plot-to-show-the-relationship-between-these-2-features.-There-are-2-ways,-please-do-it-both-ways.\" data-toc-modified-id=\"We-suspect-that-there-is-a-linear-relationship-between-Fare-and-Age.-Use-the-right-plot-to-show-the-relationship-between-these-2-features.-There-are-2-ways,-please-do-it-both-ways.-1.3.0.15\"><span class=\"toc-item-num\">1.3.0.15&nbsp;&nbsp;</span>We suspect that there is a linear relationship between <code>Fare</code> and <code>Age</code>. Use the right plot to show the relationship between these 2 features. There are 2 ways, please do it both ways.</a></span></li><li><span><a href=\"#Plot-the-correlation-matrix-using-seaborn.\" data-toc-modified-id=\"Plot-the-correlation-matrix-using-seaborn.-1.3.0.16\"><span class=\"toc-item-num\">1.3.0.16&nbsp;&nbsp;</span>Plot the correlation matrix using seaborn.</a></span></li><li><span><a href=\"#What-are-the-most-correlated-features?\" data-toc-modified-id=\"What-are-the-most-correlated-features?-1.3.0.17\"><span class=\"toc-item-num\">1.3.0.17&nbsp;&nbsp;</span>What are the most correlated features?</a></span></li><li><span><a href=\"#Use-the-most-appropriate-plot-to-display-the-summary-statistics-of-Age-depending-on-Pclass.\" data-toc-modified-id=\"Use-the-most-appropriate-plot-to-display-the-summary-statistics-of-Age-depending-on-Pclass.-1.3.0.18\"><span class=\"toc-item-num\">1.3.0.18&nbsp;&nbsp;</span>Use the most appropriate plot to display the summary statistics of <code>Age</code> depending on <code>Pclass</code>.</a></span></li><li><span><a href=\"#Use-seaborn-to-plot-the-distribution-of-Age-based-on-the-Gender.\" data-toc-modified-id=\"Use-seaborn-to-plot-the-distribution-of-Age-based-on-the-Gender.-1.3.0.19\"><span class=\"toc-item-num\">1.3.0.19&nbsp;&nbsp;</span>Use seaborn to plot the distribution of <code>Age</code> based on the <code>Gender</code>.</a></span></li></ul></li></ul></li></ul></li></ul></div>"
   ]
  },
  {
   "cell_type": "markdown",
   "metadata": {},
   "source": [
    "# Lab | Matplotlib & Seaborn\n",
    "\n",
    "#### Import all the necessary libraries here :"
   ]
  },
  {
   "cell_type": "code",
   "execution_count": null,
   "metadata": {},
   "outputs": [],
   "source": [
    "# Libraries\n",
    "import numpy as np"
   ]
  },
  {
   "cell_type": "markdown",
   "metadata": {},
   "source": [
    "## Challenge 1\n",
    "\n",
    "#### The data we will use in this challenge is:"
   ]
  },
  {
   "cell_type": "code",
   "execution_count": null,
   "metadata": {},
   "outputs": [],
   "source": [
    "x = np.arange(0,100)\n",
    "y = x*2\n",
    "z = x**2"
   ]
  },
  {
   "cell_type": "markdown",
   "metadata": {},
   "source": [
    "#### Plot (x, y) and (x, z).\n",
    "There are 2 ways of doing this. Do in both ways.\n",
    "\n",
    "**Hint**: Check out the nrows, ncols and index arguments of subplots. \n",
    "\n",
    "Also, play around with the linewidth and style. Use the ones you're most happy with."
   ]
  },
  {
   "cell_type": "code",
   "execution_count": null,
   "metadata": {},
   "outputs": [],
   "source": [
    "# Method 1"
   ]
  },
  {
   "cell_type": "markdown",
   "metadata": {},
   "source": [
    "#### Use plt.subplots(nrows=1, ncols=2) to create the plot."
   ]
  },
  {
   "cell_type": "code",
   "execution_count": null,
   "metadata": {},
   "outputs": [],
   "source": [
    "# Method 2"
   ]
  },
  {
   "cell_type": "markdown",
   "metadata": {},
   "source": [
    "#### Use your previous code but now, resize your plot.\n",
    "**Hint**: Add the figsize argument in plt.subplots().\n",
    "\n",
    "If you want, try to add a title to the plot or even axes labels. You can also play with the fontweight and fontsize of the titles and labels. "
   ]
  },
  {
   "cell_type": "code",
   "execution_count": null,
   "metadata": {},
   "outputs": [],
   "source": [
    "# your code here"
   ]
  },
  {
   "cell_type": "markdown",
   "metadata": {},
   "source": [
    "#### Plot both $y=x^2$ and $y=e^x$ in the same plot using normal and logarithmic scale.\n",
    "**Hint**: Use `set_xscale` and `set_yscale`."
   ]
  },
  {
   "cell_type": "code",
   "execution_count": null,
   "metadata": {},
   "outputs": [],
   "source": [
    "# your code here"
   ]
  },
  {
   "cell_type": "markdown",
   "metadata": {},
   "source": [
    "#### As a bonus challenge, try to add a legend to the plot."
   ]
  },
  {
   "cell_type": "code",
   "execution_count": null,
   "metadata": {},
   "outputs": [],
   "source": [
    "# your code here"
   ]
  },
  {
   "cell_type": "markdown",
   "metadata": {},
   "source": [
    "## Challenge 2\n",
    "#### Import the `Fitbit2` dataset and store it in a variable called `fitbit`. You can find the dataset in Ironhack's database:\n",
    "* db: `fitbit`\n",
    "* table: `fitbit2`"
   ]
  },
  {
   "cell_type": "code",
   "execution_count": null,
   "metadata": {},
   "outputs": [],
   "source": [
    "# your code here"
   ]
  },
  {
   "cell_type": "markdown",
   "metadata": {},
   "source": [
    "#### From the Fitbit data, we want to visually understand:\n",
    "\n",
    "How the average number of steps change by month. Use the appropriate visualization to show the median steps by month. Is Fitbitter more active on weekend or workdays? All plots must be in the same jupyter notebook cell.\n",
    "\n",
    "**Hints**:\n",
    "\n",
    "* Use Months_encoded and Week_or Weekend columns.\n",
    "* Use matplolib.pyplot object oriented API.\n",
    "* Set your size figure to 12,4\n",
    "* Explore plt.sca\n",
    "* Explore plt.xticks\n",
    "* Save your figures in a folder called `figures` in your repo. "
   ]
  },
  {
   "cell_type": "code",
   "execution_count": null,
   "metadata": {},
   "outputs": [],
   "source": [
    "# MEDIAN STEPS BY MONTH_ENCODED\n",
    "# your code here\n",
    "\n",
    "# MEDIAN STEPS BY WORK_OR_WEEKEND\n",
    "# your code here"
   ]
  },
  {
   "cell_type": "markdown",
   "metadata": {},
   "source": [
    "#### Write a loop to plot 3 scatter plots of the following features:\n",
    "\n",
    "* Minutes Lightly Active vs Steps    \n",
    "* Minutes Very Active vs Steps    \n",
    "* Minutes Sedentary vs Steps  "
   ]
  },
  {
   "cell_type": "code",
   "execution_count": null,
   "metadata": {},
   "outputs": [],
   "source": [
    "# your code here"
   ]
  },
  {
   "cell_type": "markdown",
   "metadata": {},
   "source": [
    "## Challenge 3\n",
    "\n",
    "#### Import the `titanic` dataset and store it in a variable called `titanic`. You can find the dataset in Ironhack's database:\n",
    "* db: `titanic`\n",
    "* table: `titanic`"
   ]
  },
  {
   "cell_type": "code",
   "execution_count": null,
   "metadata": {
    "scrolled": true
   },
   "outputs": [],
   "source": [
    "# your code here"
   ]
  },
  {
   "cell_type": "markdown",
   "metadata": {},
   "source": [
    "#### Explore the titanic dataset using Pandas dtypes."
   ]
  },
  {
   "cell_type": "code",
   "execution_count": null,
   "metadata": {},
   "outputs": [],
   "source": [
    "# your code here"
   ]
  },
  {
   "cell_type": "markdown",
   "metadata": {},
   "source": [
    "#### What are your numerical variables? What are your categorical variables?\n",
    "**Hint**: Use Pandas select_dtypes."
   ]
  },
  {
   "cell_type": "code",
   "execution_count": null,
   "metadata": {},
   "outputs": [],
   "source": [
    "# NUMERICAL VARIABLES\n",
    "# your code here"
   ]
  },
  {
   "cell_type": "code",
   "execution_count": null,
   "metadata": {},
   "outputs": [],
   "source": [
    "# CATEGORICAL VARIABLES\n",
    "# your code here"
   ]
  },
  {
   "cell_type": "markdown",
   "metadata": {},
   "source": [
    "#### Set the plot style to classic and the figure size to (12,6).\n",
    "**Hint**: To set the style you can use matplotlib or seaborn functions. Do some research on the matter."
   ]
  },
  {
   "cell_type": "code",
   "execution_count": null,
   "metadata": {},
   "outputs": [],
   "source": [
    "# your code here"
   ]
  },
  {
   "cell_type": "markdown",
   "metadata": {},
   "source": [
    "#### Use the right visulalization to show the distribution of column `Age`."
   ]
  },
  {
   "cell_type": "code",
   "execution_count": null,
   "metadata": {},
   "outputs": [],
   "source": [
    "# your code here"
   ]
  },
  {
   "cell_type": "markdown",
   "metadata": {},
   "source": [
    "#### Use subplots and plot the distribution of the `Age`  with bins equal to 10, 20 and 50."
   ]
  },
  {
   "cell_type": "code",
   "execution_count": null,
   "metadata": {},
   "outputs": [],
   "source": [
    "# your code here"
   ]
  },
  {
   "cell_type": "markdown",
   "metadata": {},
   "source": [
    "#### How does the bin size affect your plot?"
   ]
  },
  {
   "cell_type": "code",
   "execution_count": null,
   "metadata": {},
   "outputs": [],
   "source": [
    "\"\"\"\n",
    "your comments here\n",
    "\"\"\""
   ]
  },
  {
   "cell_type": "markdown",
   "metadata": {},
   "source": [
    "#### Use seaborn to show the distribution of column `Age`."
   ]
  },
  {
   "cell_type": "code",
   "execution_count": null,
   "metadata": {},
   "outputs": [],
   "source": [
    "# your code here"
   ]
  },
  {
   "cell_type": "markdown",
   "metadata": {},
   "source": [
    "#### Use the right plot to visualize column `Gender`. There are 2 ways of doing it. Do it both ways.\n",
    "**Hint**: Use matplotlib and seaborn."
   ]
  },
  {
   "cell_type": "code",
   "execution_count": null,
   "metadata": {},
   "outputs": [],
   "source": [
    "# Method 1 - matplotlib\n",
    "# your code here"
   ]
  },
  {
   "cell_type": "code",
   "execution_count": null,
   "metadata": {},
   "outputs": [],
   "source": [
    "# Method 2 - seaborn\n",
    "# your code here"
   ]
  },
  {
   "cell_type": "markdown",
   "metadata": {},
   "source": [
    "#### Use the right plot to visualize the column `Pclass`."
   ]
  },
  {
   "cell_type": "code",
   "execution_count": null,
   "metadata": {},
   "outputs": [],
   "source": [
    "# your code here"
   ]
  },
  {
   "cell_type": "markdown",
   "metadata": {},
   "source": [
    "#### We would like to have in one single plot the summary statistics of the feature `Age`. What kind of plot would you use? Plot it. "
   ]
  },
  {
   "cell_type": "code",
   "execution_count": null,
   "metadata": {},
   "outputs": [],
   "source": [
    "# your code here"
   ]
  },
  {
   "cell_type": "code",
   "execution_count": null,
   "metadata": {},
   "outputs": [],
   "source": [
    "\"\"\"\n",
    "your comments here\n",
    "\"\"\""
   ]
  },
  {
   "cell_type": "markdown",
   "metadata": {},
   "source": [
    "#### What does the last plot tell you about the feature `Age`?"
   ]
  },
  {
   "cell_type": "code",
   "execution_count": null,
   "metadata": {},
   "outputs": [],
   "source": [
    "\"\"\"\n",
    "your comments here\n",
    "\"\"\""
   ]
  },
  {
   "cell_type": "markdown",
   "metadata": {},
   "source": [
    "#### Now in addition to the summary statistics, we want to have in the same plot the distribution of `Age`. What kind of plot would you use? Plot it. "
   ]
  },
  {
   "cell_type": "code",
   "execution_count": null,
   "metadata": {},
   "outputs": [],
   "source": [
    "# your code here"
   ]
  },
  {
   "cell_type": "markdown",
   "metadata": {},
   "source": [
    "#### What additional information does the last plot provide about feature `Age`?"
   ]
  },
  {
   "cell_type": "code",
   "execution_count": null,
   "metadata": {},
   "outputs": [],
   "source": [
    "\"\"\"\n",
    "your comments here\n",
    "\"\"\""
   ]
  },
  {
   "cell_type": "markdown",
   "metadata": {},
   "source": [
    "#### We suspect that there is a linear relationship between `Fare` and `Age`. Use the right plot to show the relationship between these 2 features. There are 2 ways, please do it both ways.\n",
    "**Hint**: Use matplotlib and seaborn."
   ]
  },
  {
   "cell_type": "code",
   "execution_count": null,
   "metadata": {},
   "outputs": [],
   "source": [
    "# Method 1 - matplotlib\n",
    "# your code here"
   ]
  },
  {
   "cell_type": "code",
   "execution_count": null,
   "metadata": {},
   "outputs": [],
   "source": [
    "# Method 2 - seaborn\n",
    "# your code here"
   ]
  },
  {
   "cell_type": "markdown",
   "metadata": {},
   "source": [
    "#### Plot the correlation matrix using seaborn."
   ]
  },
  {
   "cell_type": "code",
   "execution_count": null,
   "metadata": {},
   "outputs": [],
   "source": [
    "# your code here"
   ]
  },
  {
   "cell_type": "markdown",
   "metadata": {},
   "source": [
    "#### What are the most correlated features?"
   ]
  },
  {
   "cell_type": "code",
   "execution_count": null,
   "metadata": {},
   "outputs": [],
   "source": [
    "\"\"\"\n",
    "your comments here\n",
    "\"\"\""
   ]
  },
  {
   "cell_type": "markdown",
   "metadata": {},
   "source": [
    "#### Use the most appropriate plot to display the summary statistics of `Age` depending on `Pclass`."
   ]
  },
  {
   "cell_type": "code",
   "execution_count": null,
   "metadata": {
    "scrolled": true
   },
   "outputs": [],
   "source": [
    "# your code here"
   ]
  },
  {
   "cell_type": "markdown",
   "metadata": {},
   "source": [
    "#### Use seaborn to plot the distribution of `Age` based on the `Gender`.\n",
    "**Hint**: Use Facetgrid."
   ]
  },
  {
   "cell_type": "code",
   "execution_count": null,
   "metadata": {},
   "outputs": [],
   "source": [
    "# your code here"
   ]
  }
 ],
 "metadata": {
  "anaconda-cloud": {},
  "kernelspec": {
   "display_name": "Python 3",
   "language": "python",
   "name": "python3"
  },
  "language_info": {
   "codemirror_mode": {
    "name": "ipython",
    "version": 3
   },
   "file_extension": ".py",
   "mimetype": "text/x-python",
   "name": "python",
   "nbconvert_exporter": "python",
   "pygments_lexer": "ipython3",
   "version": "3.7.3"
  },
  "latex_envs": {
   "LaTeX_envs_menu_present": true,
   "autoclose": false,
   "autocomplete": true,
   "bibliofile": "biblio.bib",
   "cite_by": "apalike",
   "current_citInitial": 1,
   "eqLabelWithNumbers": true,
   "eqNumInitial": 1,
   "hotkeys": {
    "equation": "Ctrl-E",
    "itemize": "Ctrl-I"
   },
   "labels_anchors": false,
   "latex_user_defs": false,
   "report_style_numbering": false,
   "user_envs_cfg": false
  },
  "toc": {
   "base_numbering": 1,
   "nav_menu": {},
   "number_sections": true,
   "sideBar": true,
   "skip_h1_title": false,
   "title_cell": "Table of Contents",
   "title_sidebar": "Contents",
   "toc_cell": true,
   "toc_position": {},
   "toc_section_display": true,
   "toc_window_display": false
  },
  "varInspector": {
   "cols": {
    "lenName": 16,
    "lenType": 16,
    "lenVar": 40
   },
   "kernels_config": {
    "python": {
     "delete_cmd_postfix": "",
     "delete_cmd_prefix": "del ",
     "library": "var_list.py",
     "varRefreshCmd": "print(var_dic_list())"
    },
    "r": {
     "delete_cmd_postfix": ") ",
     "delete_cmd_prefix": "rm(",
     "library": "var_list.r",
     "varRefreshCmd": "cat(var_dic_list()) "
    }
   },
   "types_to_exclude": [
    "module",
    "function",
    "builtin_function_or_method",
    "instance",
    "_Feature"
   ],
   "window_display": false
  }
 },
 "nbformat": 4,
 "nbformat_minor": 1
}
